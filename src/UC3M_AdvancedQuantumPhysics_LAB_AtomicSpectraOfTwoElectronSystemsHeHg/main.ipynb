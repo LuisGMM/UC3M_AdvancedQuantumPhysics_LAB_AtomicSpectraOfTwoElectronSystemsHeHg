{
 "cells": [
  {
   "cell_type": "markdown",
   "metadata": {},
   "source": [
    "## 4.1 Landau level wave functions and probability density (square of the ewave function)"
   ]
  },
  {
   "cell_type": "code",
   "execution_count": 39,
   "metadata": {},
   "outputs": [],
   "source": [
    "import numpy as np\n",
    "import matplotlib.pyplot as plt\n",
    "import pandas as pd"
   ]
  },
  {
   "cell_type": "code",
   "execution_count": 40,
   "metadata": {},
   "outputs": [],
   "source": [
    "def to_latex(col_names: 'List[str, ...]', cols: 'List[List, ...]', **kwargs) -> str:\n",
    "    \"\"\"High-level wrapper of pandas.DataFrame.to_latex with limited options.\n",
    "\n",
    "    Zips the strings in col_names with the sublists in cols and generates a LaTeX table in string format.\n",
    "\n",
    "    Args:\n",
    "        col_names (list[str]): The names of each data column in cols. They will appear in the first row.\n",
    "        cols (list[list]): Contains lists, each a supposed column of the table.\n",
    "\n",
    "    Returns:\n",
    "        str: Latex table.\n",
    "\n",
    "    Examples:\n",
    "        >>> names = ['luis', 'pablo']\n",
    "        >>> cols = [list(range(10)), list(range(10))]\n",
    "        >>> to_latex(names, cols)\n",
    "    \"\"\"\n",
    "    return pd.DataFrame(dict(zip(col_names, cols))).to_latex(**kwargs)"
   ]
  },
  {
   "cell_type": "markdown",
   "metadata": {},
   "source": [
    "600 lines/mm"
   ]
  },
  {
   "cell_type": "code",
   "execution_count": 41,
   "metadata": {},
   "outputs": [
    {
     "name": "stdout",
     "output_type": "stream",
     "text": [
      "\\begin{tabular}{ccc}\n",
      "\\toprule\n",
      " Upper bound $(\\pm 0.05 mm)$ &  Lower bound $(\\pm 0.05 mm)$ &  Value $(\\pm 0.1 mm)$ \\\\\n",
      "\\midrule\n",
      "                         756 &                          504 &                   252 \\\\\n",
      "                         758 &                          505 &                   253 \\\\\n",
      "                         757 &                          505 &                   252 \\\\\n",
      "\\bottomrule\n",
      "\\end{tabular}\n",
      "\n"
     ]
    },
    {
     "name": "stderr",
     "output_type": "stream",
     "text": [
      "C:\\Users\\luisg\\AppData\\Local\\Temp\\ipykernel_13148\\3650308828.py:18: FutureWarning: In future versions `DataFrame.to_latex` is expected to utilise the base implementation of `Styler.to_latex` for formatting and rendering. The arguments signature may therefore change. It is recommended instead to use `DataFrame.style.to_latex` which also contains additional functionality.\n",
      "  return pd.DataFrame(dict(zip(col_names, cols))).to_latex(**kwargs)\n"
     ]
    }
   ],
   "source": [
    "# raya azul\n",
    "# distancia entre grading y tubo d = 400mm pm 0.5mm\n",
    "# 2l = 756-504 mm pm 0.5mm\n",
    "\n",
    "# distancia entre grading y tubo d = 400mm pm 0.5mm\n",
    "# 2l = 758-505 mm pm 0.5mm\n",
    "\n",
    "# distancia entre grading y tubo d = 400mm pm 0.5mm\n",
    "# 2l = 757-505 mm pm 0.5mm\n",
    "\n",
    "\n",
    "upper = np.array([756, 758, 757])\n",
    "lower = np.array([504, 505, 505])\n",
    "wavelength0 = upper - lower\n",
    "\n",
    "print(to_latex([r'Upper bound $(\\pm 0.05 mm)$', r'Lower bound $(\\pm 0.05 mm)$', r'Value $(\\pm 0.1 mm)$'],\n",
    "[upper, lower, wavelength0], index=False, escape=False, column_format='ccc'))"
   ]
  },
  {
   "cell_type": "code",
   "execution_count": 42,
   "metadata": {},
   "outputs": [
    {
     "name": "stdout",
     "output_type": "stream",
     "text": [
      "\\begin{tabular}{ccc}\n",
      "\\toprule\n",
      " Upper bound $(\\pm 0.05 mm)$ &  Lower bound $(\\pm 0.05 mm)$ &  Value $(\\pm 0.1 mm)$ \\\\\n",
      "\\midrule\n",
      "                         791 &                          473 &                   318 \\\\\n",
      "                         793 &                          474 &                   319 \\\\\n",
      "                         792 &                          473 &                   319 \\\\\n",
      "\\bottomrule\n",
      "\\end{tabular}\n",
      "\n"
     ]
    },
    {
     "name": "stderr",
     "output_type": "stream",
     "text": [
      "C:\\Users\\luisg\\AppData\\Local\\Temp\\ipykernel_13148\\3650308828.py:18: FutureWarning: In future versions `DataFrame.to_latex` is expected to utilise the base implementation of `Styler.to_latex` for formatting and rendering. The arguments signature may therefore change. It is recommended instead to use `DataFrame.style.to_latex` which also contains additional functionality.\n",
      "  return pd.DataFrame(dict(zip(col_names, cols))).to_latex(**kwargs)\n"
     ]
    }
   ],
   "source": [
    "# raya verde\n",
    "# distancia entre grading y tubo d = 400mm pm 0.5mm\n",
    "# 2l = 791-473 mm pm 0.5mm\n",
    "\n",
    "# distancia entre grading y tubo d = 400mm pm 0.5mm\n",
    "# 2l = 793-474 mm pm 0.5mm\n",
    "\n",
    "# distancia entre grading y tubo d = 400mm pm 0.5mm\n",
    "# 2l = 792-473 mm pm 0.5mm\n",
    "\n",
    "upper = np.array([791, 793, 792])\n",
    "lower = np.array([473, 474, 473])\n",
    "wavelength1 = upper - lower\n",
    "\n",
    "print(to_latex([r'Upper bound $(\\pm 0.05 mm)$', r'Lower bound $(\\pm 0.05 mm)$', r'Value $(\\pm 0.1 mm)$'],\n",
    "[upper, lower, wavelength1], index=False, escape=False, column_format='ccc'))"
   ]
  },
  {
   "cell_type": "code",
   "execution_count": 43,
   "metadata": {},
   "outputs": [
    {
     "name": "stdout",
     "output_type": "stream",
     "text": [
      "\\begin{tabular}{ccc}\n",
      "\\toprule\n",
      " Upper bound $(\\pm 0.05 mm)$ &  Lower bound $(\\pm 0.05 mm)$ &  Value $(\\pm 0.1 mm)$ \\\\\n",
      "\\midrule\n",
      "                         806 &                          461 &                   345 \\\\\n",
      "                         802 &                          463 &                   339 \\\\\n",
      "                         805 &                          463 &                   342 \\\\\n",
      "\\bottomrule\n",
      "\\end{tabular}\n",
      "\n"
     ]
    },
    {
     "name": "stderr",
     "output_type": "stream",
     "text": [
      "C:\\Users\\luisg\\AppData\\Local\\Temp\\ipykernel_13148\\3650308828.py:18: FutureWarning: In future versions `DataFrame.to_latex` is expected to utilise the base implementation of `Styler.to_latex` for formatting and rendering. The arguments signature may therefore change. It is recommended instead to use `DataFrame.style.to_latex` which also contains additional functionality.\n",
      "  return pd.DataFrame(dict(zip(col_names, cols))).to_latex(**kwargs)\n"
     ]
    }
   ],
   "source": [
    "# raya amarilla\n",
    "# distancia entre grading y tubo d = 400mm pm 0.5mm\n",
    "# 2l = 806-461 mm pm 0.5mm\n",
    "\n",
    "# distancia entre grading y tubo d = 400mm pm 0.5mm\n",
    "# 2l = 802-463 mm pm 0.5mm\n",
    "\n",
    "# distancia entre grading y tubo d = 400mm pm 0.5mm\n",
    "# 2l = 805-463 mm pm 0.5mm\n",
    "\n",
    "upper = np.array([806, 802, 805])\n",
    "lower = np.array([461, 463, 463])\n",
    "wavelength2 = upper - lower\n",
    "\n",
    "print(to_latex([r'Upper bound $(\\pm 0.05 mm)$', r'Lower bound $(\\pm 0.05 mm)$', r'Value $(\\pm 0.1 mm)$'],\n",
    "[upper, lower, wavelength2], index=False, escape=False, column_format='ccc'))"
   ]
  },
  {
   "cell_type": "code",
   "execution_count": 62,
   "metadata": {},
   "outputs": [
    {
     "name": "stdout",
     "output_type": "stream",
     "text": [
      "\\begin{tabular}{ccc}\n",
      "\\toprule\n",
      " Wavelength &  Mean l $(\\pm 0.05 mm)$ \\\\\n",
      "\\midrule\n",
      "  Blue line &              126.166667 \\\\\n",
      " Green line &              159.333333 \\\\\n",
      "Yellow line &              171.000000 \\\\\n",
      "\\bottomrule\n",
      "\\end{tabular}\n",
      "\n",
      "[180.48483043 222.03330516 235.85209789]\n"
     ]
    },
    {
     "name": "stderr",
     "output_type": "stream",
     "text": [
      "C:\\Users\\luisg\\AppData\\Local\\Temp\\ipykernel_13148\\3650308828.py:18: FutureWarning: In future versions `DataFrame.to_latex` is expected to utilise the base implementation of `Styler.to_latex` for formatting and rendering. The arguments signature may therefore change. It is recommended instead to use `DataFrame.style.to_latex` which also contains additional functionality.\n",
      "  return pd.DataFrame(dict(zip(col_names, cols))).to_latex(**kwargs)\n"
     ]
    }
   ],
   "source": [
    "means = np.array([wavelength0.mean()/2, wavelength1.mean()/2, wavelength2.mean()/2])\n",
    "\n",
    "print(to_latex([r'Wavelength', r'Mean l $(\\pm 0.05 mm)$'],\n",
    "[['Blue line', 'Green line', 'Yellow line'], means], index=False, escape=False, column_format='ccc'))\n",
    "\n",
    "d = 400\n",
    "k = 600\n",
    "wavelengths =  (means * k) / np.sqrt(means**2 + d**2)\n",
    "\n",
    "print(wavelengths)"
   ]
  },
  {
   "cell_type": "markdown",
   "metadata": {},
   "source": [
    "Nuevo tubo"
   ]
  },
  {
   "cell_type": "code",
   "execution_count": 45,
   "metadata": {},
   "outputs": [
    {
     "name": "stdout",
     "output_type": "stream",
     "text": [
      "\\begin{tabular}{ccc}\n",
      "\\toprule\n",
      " Upper bound $(\\pm 0.05 mm)$ &  Lower bound $(\\pm 0.05 mm)$ &  Value $(\\pm 0.1 mm)$ \\\\\n",
      "\\midrule\n",
      "                         788 &                          528 &                   260 \\\\\n",
      "                         788 &                          527 &                   261 \\\\\n",
      "                         788 &                          528 &                   260 \\\\\n",
      "\\bottomrule\n",
      "\\end{tabular}\n",
      "\n"
     ]
    },
    {
     "name": "stderr",
     "output_type": "stream",
     "text": [
      "C:\\Users\\luisg\\AppData\\Local\\Temp\\ipykernel_13148\\3650308828.py:18: FutureWarning: In future versions `DataFrame.to_latex` is expected to utilise the base implementation of `Styler.to_latex` for formatting and rendering. The arguments signature may therefore change. It is recommended instead to use `DataFrame.style.to_latex` which also contains additional functionality.\n",
      "  return pd.DataFrame(dict(zip(col_names, cols))).to_latex(**kwargs)\n"
     ]
    }
   ],
   "source": [
    "# raya morada\n",
    "# distancia entre grading y tubo d = 400mm pm 0.5mm\n",
    "# 2l = 788-528 mm pm 0.5mm\n",
    "\n",
    "# distancia entre grading y tubo d = 400mm pm 0.5mm\n",
    "# 2l = 788-527 mm pm 0.5mm\n",
    "\n",
    "# distancia entre grading y tubo d = 400mm pm 0.5mm\n",
    "# 2l = 788-528 mm pm 0.5mm\n",
    "\n",
    "upper = np.array([788, 788, 788])\n",
    "lower = np.array([528, 527, 528])\n",
    "wavelength3 = upper - lower\n",
    "\n",
    "print(to_latex([r'Upper bound $(\\pm 0.05 mm)$', r'Lower bound $(\\pm 0.05 mm)$', r'Value $(\\pm 0.1 mm)$'],\n",
    "[upper, lower, wavelength3], index=False, escape=False, column_format='ccc'))\n"
   ]
  },
  {
   "cell_type": "code",
   "execution_count": 46,
   "metadata": {},
   "outputs": [
    {
     "name": "stderr",
     "output_type": "stream",
     "text": [
      "C:\\Users\\luisg\\AppData\\Local\\Temp\\ipykernel_13148\\3650308828.py:18: FutureWarning: In future versions `DataFrame.to_latex` is expected to utilise the base implementation of `Styler.to_latex` for formatting and rendering. The arguments signature may therefore change. It is recommended instead to use `DataFrame.style.to_latex` which also contains additional functionality.\n",
      "  return pd.DataFrame(dict(zip(col_names, cols))).to_latex(**kwargs)\n"
     ]
    },
    {
     "name": "stdout",
     "output_type": "stream",
     "text": [
      "\\begin{tabular}{ccc}\n",
      "\\toprule\n",
      " Upper bound $(\\pm 0.05 mm)$ &  Lower bound $(\\pm 0.05 mm)$ &  Value $(\\pm 0.1 mm)$ \\\\\n",
      "\\midrule\n",
      "                         795 &                          520 &                   275 \\\\\n",
      "                         796 &                          519 &                   277 \\\\\n",
      "                         794 &                          521 &                   273 \\\\\n",
      "\\bottomrule\n",
      "\\end{tabular}\n",
      "\n"
     ]
    }
   ],
   "source": [
    "# raya azul\n",
    "# distancia entre grading y tubo d = 400mm pm 0.5mm\n",
    "# 2l = 795-520 mm pm 0.5mm\n",
    "\n",
    "# distancia entre grading y tubo d = 400mm pm 0.5mm\n",
    "# 2l = 796-519 mm pm 0.5mm\n",
    "\n",
    "# distancia entre grading y tubo d = 400mm pm 0.5mm\n",
    "# 2l = 794-521 mm pm 0.5mm\n",
    "\n",
    "upper = np.array([795, 796, 794])\n",
    "lower = np.array([520, 519, 521])\n",
    "wavelength4 = upper - lower\n",
    "\n",
    "print(to_latex([r'Upper bound $(\\pm 0.05 mm)$', r'Lower bound $(\\pm 0.05 mm)$', r'Value $(\\pm 0.1 mm)$'],\n",
    "[upper, lower, wavelength4], index=False, escape=False, column_format='ccc'))\n"
   ]
  },
  {
   "cell_type": "code",
   "execution_count": 47,
   "metadata": {},
   "outputs": [
    {
     "name": "stdout",
     "output_type": "stream",
     "text": [
      "\\begin{tabular}{ccc}\n",
      "\\toprule\n",
      " Upper bound $(\\pm 0.05 mm)$ &  Lower bound $(\\pm 0.05 mm)$ &  Value $(\\pm 0.1 mm)$ \\\\\n",
      "\\midrule\n",
      "                         806 &                          515 &                   291 \\\\\n",
      "                         805 &                          515 &                   290 \\\\\n",
      "                         804 &                          514 &                   290 \\\\\n",
      "\\bottomrule\n",
      "\\end{tabular}\n",
      "\n"
     ]
    },
    {
     "name": "stderr",
     "output_type": "stream",
     "text": [
      "C:\\Users\\luisg\\AppData\\Local\\Temp\\ipykernel_13148\\3650308828.py:18: FutureWarning: In future versions `DataFrame.to_latex` is expected to utilise the base implementation of `Styler.to_latex` for formatting and rendering. The arguments signature may therefore change. It is recommended instead to use `DataFrame.style.to_latex` which also contains additional functionality.\n",
      "  return pd.DataFrame(dict(zip(col_names, cols))).to_latex(**kwargs)\n"
     ]
    }
   ],
   "source": [
    "# raya verde ocuro\n",
    "# distancia entre grading y tubo d = 400mm pm 0.5mm\n",
    "# 2l = 806-515 mm pm 0.5mm\n",
    "\n",
    "# distancia entre grading y tubo d = 400mm pm 0.5mm\n",
    "# 2l = 805-515 mm pm 0.5mm\n",
    "\n",
    "# distancia entre grading y tubo d = 400mm pm 0.5mm\n",
    "# 2l = 804-514 mm pm 0.5mm\n",
    "\n",
    "upper = np.array([806, 805, 804])\n",
    "lower = np.array([515, 515, 514])\n",
    "wavelength5 = upper - lower\n",
    "\n",
    "print(to_latex([r'Upper bound $(\\pm 0.05 mm)$', r'Lower bound $(\\pm 0.05 mm)$', r'Value $(\\pm 0.1 mm)$'],\n",
    "[upper, lower, wavelength5], index=False, escape=False, column_format='ccc'))"
   ]
  },
  {
   "cell_type": "code",
   "execution_count": 48,
   "metadata": {},
   "outputs": [
    {
     "name": "stderr",
     "output_type": "stream",
     "text": [
      "C:\\Users\\luisg\\AppData\\Local\\Temp\\ipykernel_13148\\3650308828.py:18: FutureWarning: In future versions `DataFrame.to_latex` is expected to utilise the base implementation of `Styler.to_latex` for formatting and rendering. The arguments signature may therefore change. It is recommended instead to use `DataFrame.style.to_latex` which also contains additional functionality.\n",
      "  return pd.DataFrame(dict(zip(col_names, cols))).to_latex(**kwargs)\n"
     ]
    },
    {
     "name": "stdout",
     "output_type": "stream",
     "text": [
      "\\begin{tabular}{ccc}\n",
      "\\toprule\n",
      " Upper bound $(\\pm 0.05 mm)$ &  Lower bound $(\\pm 0.05 mm)$ &  Value $(\\pm 0.1 mm)$ \\\\\n",
      "\\midrule\n",
      "                         808 &                          511 &                   297 \\\\\n",
      "                         803 &                          510 &                   293 \\\\\n",
      "                         807 &                          511 &                   296 \\\\\n",
      "\\bottomrule\n",
      "\\end{tabular}\n",
      "\n"
     ]
    }
   ],
   "source": [
    "# raya verde claro\n",
    "# distancia entre grading y tubo d = 400mm pm 0.5mm\n",
    "# 2l = 808-511 mm pm 0.5mm\n",
    "\n",
    "# distancia entre grading y tubo d = 400mm pm 0.5mm\n",
    "# 2l = 803-510 mm pm 0.5mm\n",
    "\n",
    "# distancia entre grading y tubo d = 400mm pm 0.5mm\n",
    "# 2l = 807-511 mm pm 0.5mm\n",
    "\n",
    "upper = np.array([808, 803, 807])\n",
    "lower = np.array([511, 510, 511])\n",
    "wavelength6 = upper - lower\n",
    "\n",
    "print(to_latex([r'Upper bound $(\\pm 0.05 mm)$', r'Lower bound $(\\pm 0.05 mm)$', r'Value $(\\pm 0.1 mm)$'],\n",
    "[upper, lower, wavelength6], index=False, escape=False, column_format='ccc'))"
   ]
  },
  {
   "cell_type": "code",
   "execution_count": 49,
   "metadata": {},
   "outputs": [
    {
     "name": "stdout",
     "output_type": "stream",
     "text": [
      "\\begin{tabular}{ccc}\n",
      "\\toprule\n",
      " Upper bound $(\\pm 0.05 mm)$ &  Lower bound $(\\pm 0.05 mm)$ &  Value $(\\pm 0.1 mm)$ \\\\\n",
      "\\midrule\n",
      "                         836 &                          487 &                   349 \\\\\n",
      "                         841 &                          488 &                   353 \\\\\n",
      "                         839 &                          486 &                   353 \\\\\n",
      "\\bottomrule\n",
      "\\end{tabular}\n"
     ]
    },
    {
     "name": "stderr",
     "output_type": "stream",
     "text": [
      "C:\\Users\\luisg\\AppData\\Local\\Temp\\ipykernel_13148\\3650308828.py:18: FutureWarning: In future versions `DataFrame.to_latex` is expected to utilise the base implementation of `Styler.to_latex` for formatting and rendering. The arguments signature may therefore change. It is recommended instead to use `DataFrame.style.to_latex` which also contains additional functionality.\n",
      "  return pd.DataFrame(dict(zip(col_names, cols))).to_latex(**kwargs)\n"
     ]
    },
    {
     "name": "stdout",
     "output_type": "stream",
     "text": [
      "\n"
     ]
    }
   ],
   "source": [
    "# raya amarillo\n",
    "# distancia entre grading y tubo d = 400mm pm 0.5mm\n",
    "# 2l = 836-487 mm pm 0.5mm\n",
    "\n",
    "# distancia entre grading y tubo d = 400mm pm 0.5mm\n",
    "# 2l = 841-488 mm pm 0.5mm\n",
    "\n",
    "# distancia entre grading y tubo d = 400mm pm 0.5mm\n",
    "# 2l = 839-486 mm pm 0.5mm\n",
    "\n",
    "upper = np.array([836, 841, 839])\n",
    "lower = np.array([487, 488, 486])\n",
    "wavelength7 = upper - lower\n",
    "\n",
    "print(to_latex([r'Upper bound $(\\pm 0.05 mm)$', r'Lower bound $(\\pm 0.05 mm)$', r'Value $(\\pm 0.1 mm)$'],\n",
    "[upper, lower, wavelength7], index=False, escape=False, column_format='ccc'))"
   ]
  },
  {
   "cell_type": "code",
   "execution_count": 50,
   "metadata": {},
   "outputs": [
    {
     "name": "stderr",
     "output_type": "stream",
     "text": [
      "C:\\Users\\luisg\\AppData\\Local\\Temp\\ipykernel_13148\\3650308828.py:18: FutureWarning: In future versions `DataFrame.to_latex` is expected to utilise the base implementation of `Styler.to_latex` for formatting and rendering. The arguments signature may therefore change. It is recommended instead to use `DataFrame.style.to_latex` which also contains additional functionality.\n",
      "  return pd.DataFrame(dict(zip(col_names, cols))).to_latex(**kwargs)\n"
     ]
    },
    {
     "name": "stdout",
     "output_type": "stream",
     "text": [
      "\\begin{tabular}{ccc}\n",
      "\\toprule\n",
      " Upper bound $(\\pm 0.05 mm)$ &  Lower bound $(\\pm 0.05 mm)$ &  Value $(\\pm 0.1 mm)$ \\\\\n",
      "\\midrule\n",
      "                         867 &                          463 &                   404 \\\\\n",
      "                         864 &                          460 &                   404 \\\\\n",
      "                         865 &                          461 &                   404 \\\\\n",
      "\\bottomrule\n",
      "\\end{tabular}\n",
      "\n"
     ]
    }
   ],
   "source": [
    "# raya roja\n",
    "# distancia entre grading y tubo d = 400mm pm 0.5mm\n",
    "# 2l = 867-463 mm pm 0.5mm\n",
    "\n",
    "# distancia entre grading y tubo d = 400mm pm 0.5mm\n",
    "# 2l = 864-460 mm pm 0.5mm\n",
    "\n",
    "# distancia entre grading y tubo d = 400mm pm 0.5mm\n",
    "# 2l = 865-461 mm pm 0.5mm\n",
    "\n",
    "upper = np.array([867, 864, 865])\n",
    "lower = np.array([463, 460, 461])\n",
    "wavelength8 = upper - lower\n",
    "\n",
    "print(to_latex([r'Upper bound $(\\pm 0.05 mm)$', r'Lower bound $(\\pm 0.05 mm)$', r'Value $(\\pm 0.1 mm)$'],\n",
    "[upper, lower, wavelength8], index=False, escape=False, column_format='ccc'))"
   ]
  },
  {
   "cell_type": "code",
   "execution_count": 63,
   "metadata": {},
   "outputs": [
    {
     "name": "stdout",
     "output_type": "stream",
     "text": [
      "\\begin{tabular}{ccc}\n",
      "\\toprule\n",
      "      Wavelength &  Mean l $(\\pm 0.1 mm)$ \\\\\n",
      "\\midrule\n",
      "     Purple line &             130.166667 \\\\\n",
      "       Blue line &             137.500000 \\\\\n",
      " Dark Green line &             145.166667 \\\\\n",
      "Light Green line &             147.666667 \\\\\n",
      "     Yellow line &             175.833333 \\\\\n",
      "        Red line &             202.000000 \\\\\n",
      "\\bottomrule\n",
      "\\end{tabular}\n",
      "\n",
      "[185.66664833 195.04786111 204.68728875 207.7926968  241.45141129\n",
      " 270.46834277]\n"
     ]
    },
    {
     "name": "stderr",
     "output_type": "stream",
     "text": [
      "C:\\Users\\luisg\\AppData\\Local\\Temp\\ipykernel_13148\\3650308828.py:18: FutureWarning: In future versions `DataFrame.to_latex` is expected to utilise the base implementation of `Styler.to_latex` for formatting and rendering. The arguments signature may therefore change. It is recommended instead to use `DataFrame.style.to_latex` which also contains additional functionality.\n",
      "  return pd.DataFrame(dict(zip(col_names, cols))).to_latex(**kwargs)\n"
     ]
    }
   ],
   "source": [
    "means = np.array([wavelength3.mean()/2, wavelength4.mean()/2, wavelength5.mean()/2, wavelength6.mean()/2, wavelength7.mean()/2, wavelength8.mean()/2])\n",
    "\n",
    "print(to_latex([r'Wavelength', r'Mean l $(\\pm 0.1 mm)$'],\n",
    "[['Purple line', 'Blue line', 'Dark Green line', 'Light Green line', 'Yellow line', 'Red line'], means], index=False, escape=False, column_format='ccc'))\n",
    "\n",
    "d = 400\n",
    "k = 600\n",
    "wavelengths =  (means * k) / np.sqrt(means**2 + d**2)\n",
    "\n",
    "print(wavelengths)"
   ]
  }
 ],
 "metadata": {
  "kernelspec": {
   "display_name": "Python 3.10.4 ('venv': venv)",
   "language": "python",
   "name": "python3"
  },
  "language_info": {
   "codemirror_mode": {
    "name": "ipython",
    "version": 3
   },
   "file_extension": ".py",
   "mimetype": "text/x-python",
   "name": "python",
   "nbconvert_exporter": "python",
   "pygments_lexer": "ipython3",
   "version": "3.10.4"
  },
  "orig_nbformat": 4,
  "vscode": {
   "interpreter": {
    "hash": "7a0cf2cd6a1b779e58ae4afcebc57eea309b927b36269733b2b5f0f647e77cc7"
   }
  }
 },
 "nbformat": 4,
 "nbformat_minor": 2
}
